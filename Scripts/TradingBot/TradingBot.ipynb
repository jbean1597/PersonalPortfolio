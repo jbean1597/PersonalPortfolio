{
 "cells": [
  {
   "cell_type": "code",
   "execution_count": 1,
   "metadata": {},
   "outputs": [],
   "source": [
    "import alpaca_trade_api as tradeapi"
   ]
  },
  {
   "cell_type": "code",
   "execution_count": 10,
   "metadata": {},
   "outputs": [
    {
     "name": "stdout",
     "output_type": "stream",
     "text": [
      "Processing the order for 40 shares\n",
      "Buying 40 shares\n"
     ]
    }
   ],
   "source": [
    "#Open connection to account\n",
    "\n",
    "class TradingBot(object):\n",
    "    def __init__(self):\n",
    "        self.key = 'PKZ2MO6BA8GD0CEWPAHK'\n",
    "        self.secret = 'ukuFsrS0xhgXoD16SpcqoKDH6pblQHXYP5CuVHqH'\n",
    "        self.al_endpoint = 'https://paper-api.alpaca.markets'\n",
    "        self.al_api = tradeapi.REST(self.key, self.secret, self.al_endpoint)\n",
    "        self.symbol = 'AMD'\n",
    "        self.current_order = None\n",
    "        self.last_price = 1\n",
    "        \n",
    "        try:\n",
    "            self.position = int(self.al_api.get_position(self.symbol).qty)\n",
    "        except:\n",
    "            self.position = 0\n",
    "    def submit_order(self, target):\n",
    "        if self.current_order is not None:\n",
    "            self.api.cancel_order(self.current_order.id)\n",
    "        \n",
    "        delta = target - self.position\n",
    "        if delta == 0:\n",
    "            return\n",
    "        print(f'Processing the order for {target} shares')\n",
    "        \n",
    "        if delta > 0:\n",
    "            buy_qty = delta\n",
    "            if self.position < 0:\n",
    "                buy_qty = min(abs(self.position), buy_qty)\n",
    "            print(f'Buying {buy_qty} shares')\n",
    "            self.current_order = self.al_api.submit_order(self.symbol,buy_qty,'buy','limit','day',self.last_price)\n",
    "            \n",
    "        elif delta < 0:\n",
    "            sell_qty = abs(delta)\n",
    "            if self.position > 0:\n",
    "                sell_qty = min(abs(self.position), sell_qty)\n",
    "            print(f'Selling {sell_qty} shares')\n",
    "            self.current_order = self.al_api.submit_order(self.symbol,sell_qty,'sell','limit','day',self.last_price)\n",
    "            \n",
    "if __name__ == '__main__':\n",
    "    t = TradingBot()\n",
    "    t.submit_order(40)"
   ]
  },
  {
   "cell_type": "code",
   "execution_count": null,
   "metadata": {},
   "outputs": [],
   "source": []
  }
 ],
 "metadata": {
  "kernelspec": {
   "display_name": "Python 3",
   "language": "python",
   "name": "python3"
  },
  "language_info": {
   "codemirror_mode": {
    "name": "ipython",
    "version": 3
   },
   "file_extension": ".py",
   "mimetype": "text/x-python",
   "name": "python",
   "nbconvert_exporter": "python",
   "pygments_lexer": "ipython3",
   "version": "3.8.5"
  }
 },
 "nbformat": 4,
 "nbformat_minor": 4
}

